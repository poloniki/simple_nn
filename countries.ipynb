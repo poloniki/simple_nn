{
 "cells": [
  {
   "cell_type": "code",
   "execution_count": 1,
   "metadata": {},
   "outputs": [],
   "source": [
    "import pandas as pd\n",
    "\n",
    "df = pd.read_csv('countries.csv')"
   ]
  },
  {
   "cell_type": "code",
   "execution_count": 2,
   "metadata": {},
   "outputs": [
    {
     "data": {
      "text/plain": [
       "Index(['Country', 'Climate', 'Culture', 'Cuisine', 'Adventure activities',\n",
       "       'Natural beauty', 'Budget', 'Language', 'Safety'],\n",
       "      dtype='object')"
      ]
     },
     "execution_count": 2,
     "metadata": {},
     "output_type": "execute_result"
    }
   ],
   "source": [
    "df.columns"
   ]
  },
  {
   "cell_type": "code",
   "execution_count": 13,
   "metadata": {},
   "outputs": [],
   "source": [
    "df.drop('Language', axis=1, inplace=True)"
   ]
  },
  {
   "cell_type": "code",
   "execution_count": 24,
   "metadata": {},
   "outputs": [],
   "source": [
    "import numpy as np\n",
    "similarity_matrix = np.dot(df.drop('Country',axis=1), df.drop('Country',axis=1).T)\n"
   ]
  },
  {
   "cell_type": "code",
   "execution_count": 25,
   "metadata": {},
   "outputs": [],
   "source": [
    "similarity_matrix = (similarity_matrix - similarity_matrix.min()) / (similarity_matrix.max() - similarity_matrix.min())\n"
   ]
  },
  {
   "cell_type": "code",
   "execution_count": 26,
   "metadata": {},
   "outputs": [],
   "source": [
    "# Find the mean similarity score\n",
    "mean_similarity = similarity_matrix.mean()"
   ]
  },
  {
   "cell_type": "code",
   "execution_count": 27,
   "metadata": {},
   "outputs": [],
   "source": [
    "# Find rows with similarity scores below the mean\n",
    "different_rows = np.where(similarity_matrix.mean(axis=1) < mean_similarity)[0]"
   ]
  },
  {
   "cell_type": "code",
   "execution_count": 28,
   "metadata": {},
   "outputs": [],
   "source": [
    "# Get the names of the countries corresponding to the different rows\n",
    "different_countries = df.iloc[different_rows][\"Country\"].values"
   ]
  },
  {
   "cell_type": "code",
   "execution_count": 29,
   "metadata": {},
   "outputs": [
    {
     "name": "stdout",
     "output_type": "stream",
     "text": [
      "['France' 'Germany' 'United Kingdom' 'Mexico' 'China' 'Singapore'\n",
      " 'Hong Kong' 'Taiwan' 'South Korea' 'Macau' 'Dubai']\n"
     ]
    }
   ],
   "source": [
    "print(different_countries)\n"
   ]
  },
  {
   "cell_type": "code",
   "execution_count": 31,
   "metadata": {},
   "outputs": [
    {
     "name": "stdout",
     "output_type": "stream",
     "text": [
      "['United Kingdom' 'Germany' 'Macau' 'Taiwan' 'Singapore']\n"
     ]
    }
   ],
   "source": [
    "import pandas as pd\n",
    "import numpy as np\n",
    "\n",
    "# Load the dataframe\n",
    "df = pd.read_csv('countries.csv')\n",
    "df.drop('Language', axis=1, inplace=True)\n",
    "# Create the feature matrix\n",
    "X = df.drop(\"Country\", axis=1).values\n",
    "\n",
    "# Calculate the dot product of each country's feature vector with every other country's feature vector\n",
    "similarity_matrix = np.dot(X, X.T)\n",
    "\n",
    "# Normalize the similarity matrix so that it ranges from 0 to 1\n",
    "similarity_matrix = (similarity_matrix - similarity_matrix.min()) / (similarity_matrix.max() - similarity_matrix.min())\n",
    "\n",
    "# Sort the rows of the similarity matrix in ascending order\n",
    "sorted_indices = np.argsort(np.sum(similarity_matrix, axis=1))\n",
    "\n",
    "# Select the 5 rows with the lowest similarity scores\n",
    "most_different_rows = sorted_indices[:5]\n",
    "\n",
    "# Get the names of the countries corresponding to the different rows\n",
    "most_different_countries = df.iloc[most_different_rows][\"Country\"].values\n",
    "\n",
    "print(most_different_countries)\n"
   ]
  },
  {
   "cell_type": "code",
   "execution_count": 1,
   "metadata": {},
   "outputs": [
    {
     "name": "stdout",
     "output_type": "stream",
     "text": [
      "Created table wagon-bootcamp-355610.ml.ratings\n",
      "Created table wagon-bootcamp-355610.ml.answers\n"
     ]
    }
   ],
   "source": [
    "from google.cloud import bigquery\n",
    "\n",
    "# initialize the BigQuery client\n",
    "client = bigquery.Client()\n",
    "\n",
    "# Replace this with your project ID\n",
    "project_id = 'wagon-bootcamp-355610'\n",
    "dataset_id = 'ml'\n",
    "\n",
    "# Define the schema for the ratings table\n",
    "schema_ratings = [\n",
    "    bigquery.SchemaField(\"name\", \"STRING\", mode=\"REQUIRED\"),\n",
    "    bigquery.SchemaField(\"climate\", \"INT64\", mode=\"REQUIRED\"),\n",
    "    bigquery.SchemaField(\"culture\", \"INT64\", mode=\"REQUIRED\"),\n",
    "    bigquery.SchemaField(\"cuisine\", \"INT64\", mode=\"REQUIRED\"),\n",
    "    bigquery.SchemaField(\"adventure_activities\", \"INT64\", mode=\"REQUIRED\"),\n",
    "    bigquery.SchemaField(\"natural_beauty\", \"INT64\", mode=\"REQUIRED\"),\n",
    "    bigquery.SchemaField(\"budget\", \"INT64\", mode=\"REQUIRED\"),\n",
    "    bigquery.SchemaField(\"language\", \"INT64\", mode=\"REQUIRED\"),\n",
    "    bigquery.SchemaField(\"safety\", \"INT64\", mode=\"REQUIRED\")\n",
    "]\n",
    "\n",
    "# Define the schema for the answers table\n",
    "schema_answers = [\n",
    "    bigquery.SchemaField(\"name\", \"STRING\", mode=\"REQUIRED\"),\n",
    "    bigquery.SchemaField(\"iceland\", \"INT64\", mode=\"REQUIRED\"),\n",
    "    bigquery.SchemaField(\"maldives\", \"INT64\", mode=\"REQUIRED\"),\n",
    "    bigquery.SchemaField(\"monaco\", \"INT64\", mode=\"REQUIRED\"),\n",
    "    bigquery.SchemaField(\"singapore\", \"INT64\", mode=\"REQUIRED\"),\n",
    "    bigquery.SchemaField(\"egypt\", \"INT64\", mode=\"REQUIRED\")\n",
    "]\n",
    "\n",
    "# Create the tables in BigQuery\n",
    "table_ratings = bigquery.Table(f\"{project_id}.{dataset_id}.ratings\", schema=schema_ratings)\n",
    "table_ratings = client.create_table(table_ratings)\n",
    "print(\"Created table {}.{}.{}\".format(table_ratings.project, table_ratings.dataset_id, table_ratings.table_id))\n",
    "\n",
    "table_answers = bigquery.Table(f\"{project_id}.{dataset_id}.answers\", schema=schema_answers)\n",
    "table_answers = client.create_table(table_answers)\n",
    "print(\"Created table {}.{}.{}\".format(table_answers.project, table_answers.dataset_id, table_answers.table_id))\n"
   ]
  },
  {
   "cell_type": "code",
   "execution_count": 27,
   "metadata": {},
   "outputs": [],
   "source": [
    "id = 'Ub75SGt-x40'\n",
    "from youtube_transcript_api import YouTubeTranscriptApi\n",
    "transcript = YouTubeTranscriptApi.get_transcript(id)"
   ]
  },
  {
   "cell_type": "code",
   "execution_count": 28,
   "metadata": {},
   "outputs": [],
   "source": [
    "text = ' '.join([each['text'] for each in transcript])"
   ]
  },
  {
   "cell_type": "code",
   "execution_count": 29,
   "metadata": {},
   "outputs": [],
   "source": [
    "import re\n",
    "\n",
    "# Extract sentences ending with '?'\n",
    "pattern = r\"[^.!?]*\\?\"\n",
    "\n",
    "\n",
    "# Extract text after question words\n",
    "pattern_word = r\"(?i)(\\bwhat|why|how|where|when|which|who)\\b\\s+(.*?)(?:[.?]|$)\"\n",
    "\n"
   ]
  },
  {
   "cell_type": "code",
   "execution_count": 30,
   "metadata": {},
   "outputs": [],
   "source": [
    "questions = re.findall(pattern, text)\n",
    "for each in questions:\n",
    "    matches = re.findall(pattern_word, each)\n",
    "    if len(matches) > 0:\n",
    "        _ = ' '.join(matches[0])\n",
    "        # print(each)\n",
    "        # print('-------')\n",
    "        print(_.capitalize())\n",
    "        # print('+++++++')\n",
    "\n"
   ]
  },
  {
   "cell_type": "code",
   "execution_count": 31,
   "metadata": {},
   "outputs": [
    {
     "data": {
      "text/plain": [
       "[]"
      ]
     },
     "execution_count": 31,
     "metadata": {},
     "output_type": "execute_result"
    }
   ],
   "source": [
    "questions"
   ]
  },
  {
   "cell_type": "code",
   "execution_count": 2,
   "metadata": {},
   "outputs": [],
   "source": [
    "import numpy as np\n",
    "array = np.array([-0.4472987534408396,-0.17973166556416054, -0.2944453896479592, 0.18087532066216272, 0.1711155123743311])"
   ]
  },
  {
   "cell_type": "code",
   "execution_count": 10,
   "metadata": {},
   "outputs": [
    {
     "data": {
      "text/plain": [
       "array([0.13884833, 0.1814444 , 0.1617797 , 0.2602275 , 0.25770008])"
      ]
     },
     "execution_count": 10,
     "metadata": {},
     "output_type": "execute_result"
    }
   ],
   "source": [
    "np.exp(array) / np.sum(np.exp(array), axis=0)"
   ]
  },
  {
   "cell_type": "code",
   "execution_count": 13,
   "metadata": {},
   "outputs": [
    {
     "data": {
      "text/plain": [
       "4.604685453332522"
      ]
     },
     "execution_count": 13,
     "metadata": {},
     "output_type": "execute_result"
    }
   ],
   "source": [
    "np.sum(np.exp(array))"
   ]
  },
  {
   "cell_type": "code",
   "execution_count": 9,
   "metadata": {},
   "outputs": [
    {
     "data": {
      "text/plain": [
       "array([0.63935287, 0.83549437, 0.74494463, 1.19826577, 1.18662781])"
      ]
     },
     "execution_count": 9,
     "metadata": {},
     "output_type": "execute_result"
    }
   ],
   "source": [
    "np.exp(array)"
   ]
  },
  {
   "cell_type": "code",
   "execution_count": null,
   "metadata": {},
   "outputs": [],
   "source": []
  }
 ],
 "metadata": {
  "kernelspec": {
   "display_name": "autoweb",
   "language": "python",
   "name": "python3"
  },
  "language_info": {
   "codemirror_mode": {
    "name": "ipython",
    "version": 3
   },
   "file_extension": ".py",
   "mimetype": "text/x-python",
   "name": "python",
   "nbconvert_exporter": "python",
   "pygments_lexer": "ipython3",
   "version": "3.10.6"
  },
  "orig_nbformat": 4,
  "vscode": {
   "interpreter": {
    "hash": "f9a78c674d694199934c1a8e7fc588a9a802eb89d75a3f9a207bd39d883dc205"
   }
  }
 },
 "nbformat": 4,
 "nbformat_minor": 2
}
