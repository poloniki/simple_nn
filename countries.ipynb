{
 "cells": [
  {
   "cell_type": "code",
   "execution_count": 1,
   "metadata": {},
   "outputs": [],
   "source": [
    "import pandas as pd\n",
    "\n",
    "df = pd.read_csv('countries.csv')"
   ]
  },
  {
   "cell_type": "code",
   "execution_count": 2,
   "metadata": {},
   "outputs": [
    {
     "data": {
      "text/plain": [
       "Index(['Country', 'Climate', 'Culture', 'Cuisine', 'Adventure activities',\n",
       "       'Natural beauty', 'Budget', 'Language', 'Safety'],\n",
       "      dtype='object')"
      ]
     },
     "execution_count": 2,
     "metadata": {},
     "output_type": "execute_result"
    }
   ],
   "source": [
    "df.columns"
   ]
  },
  {
   "cell_type": "code",
   "execution_count": 13,
   "metadata": {},
   "outputs": [],
   "source": [
    "df.drop('Language', axis=1, inplace=True)"
   ]
  },
  {
   "cell_type": "code",
   "execution_count": 24,
   "metadata": {},
   "outputs": [],
   "source": [
    "import numpy as np\n",
    "similarity_matrix = np.dot(df.drop('Country',axis=1), df.drop('Country',axis=1).T)\n"
   ]
  },
  {
   "cell_type": "code",
   "execution_count": 25,
   "metadata": {},
   "outputs": [],
   "source": [
    "similarity_matrix = (similarity_matrix - similarity_matrix.min()) / (similarity_matrix.max() - similarity_matrix.min())\n"
   ]
  },
  {
   "cell_type": "code",
   "execution_count": 26,
   "metadata": {},
   "outputs": [],
   "source": [
    "# Find the mean similarity score\n",
    "mean_similarity = similarity_matrix.mean()"
   ]
  },
  {
   "cell_type": "code",
   "execution_count": 27,
   "metadata": {},
   "outputs": [],
   "source": [
    "# Find rows with similarity scores below the mean\n",
    "different_rows = np.where(similarity_matrix.mean(axis=1) < mean_similarity)[0]"
   ]
  },
  {
   "cell_type": "code",
   "execution_count": 28,
   "metadata": {},
   "outputs": [],
   "source": [
    "# Get the names of the countries corresponding to the different rows\n",
    "different_countries = df.iloc[different_rows][\"Country\"].values"
   ]
  },
  {
   "cell_type": "code",
   "execution_count": 29,
   "metadata": {},
   "outputs": [
    {
     "name": "stdout",
     "output_type": "stream",
     "text": [
      "['France' 'Germany' 'United Kingdom' 'Mexico' 'China' 'Singapore'\n",
      " 'Hong Kong' 'Taiwan' 'South Korea' 'Macau' 'Dubai']\n"
     ]
    }
   ],
   "source": [
    "print(different_countries)\n"
   ]
  },
  {
   "cell_type": "code",
   "execution_count": 31,
   "metadata": {},
   "outputs": [
    {
     "name": "stdout",
     "output_type": "stream",
     "text": [
      "['United Kingdom' 'Germany' 'Macau' 'Taiwan' 'Singapore']\n"
     ]
    }
   ],
   "source": [
    "import pandas as pd\n",
    "import numpy as np\n",
    "\n",
    "# Load the dataframe\n",
    "df = pd.read_csv('countries.csv')\n",
    "df.drop('Language', axis=1, inplace=True)\n",
    "# Create the feature matrix\n",
    "X = df.drop(\"Country\", axis=1).values\n",
    "\n",
    "# Calculate the dot product of each country's feature vector with every other country's feature vector\n",
    "similarity_matrix = np.dot(X, X.T)\n",
    "\n",
    "# Normalize the similarity matrix so that it ranges from 0 to 1\n",
    "similarity_matrix = (similarity_matrix - similarity_matrix.min()) / (similarity_matrix.max() - similarity_matrix.min())\n",
    "\n",
    "# Sort the rows of the similarity matrix in ascending order\n",
    "sorted_indices = np.argsort(np.sum(similarity_matrix, axis=1))\n",
    "\n",
    "# Select the 5 rows with the lowest similarity scores\n",
    "most_different_rows = sorted_indices[:5]\n",
    "\n",
    "# Get the names of the countries corresponding to the different rows\n",
    "most_different_countries = df.iloc[most_different_rows][\"Country\"].values\n",
    "\n",
    "print(most_different_countries)\n"
   ]
  },
  {
   "cell_type": "code",
   "execution_count": null,
   "metadata": {},
   "outputs": [],
   "source": []
  }
 ],
 "metadata": {
  "kernelspec": {
   "display_name": "autoweb",
   "language": "python",
   "name": "python3"
  },
  "language_info": {
   "codemirror_mode": {
    "name": "ipython",
    "version": 3
   },
   "file_extension": ".py",
   "mimetype": "text/x-python",
   "name": "python",
   "nbconvert_exporter": "python",
   "pygments_lexer": "ipython3",
   "version": "3.10.6"
  },
  "orig_nbformat": 4,
  "vscode": {
   "interpreter": {
    "hash": "f9a78c674d694199934c1a8e7fc588a9a802eb89d75a3f9a207bd39d883dc205"
   }
  }
 },
 "nbformat": 4,
 "nbformat_minor": 2
}
